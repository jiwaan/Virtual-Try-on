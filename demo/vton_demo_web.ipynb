{
  "cells": [
    {
      "cell_type": "markdown",
      "metadata": {
        "id": "1NT4bIcjZRvO"
      },
      "source": [
        "### **Enviroment Set-up**"
      ]
    },
    {
      "cell_type": "code",
      "execution_count": null,
      "metadata": {
        "id": "qu1RnjHPmbd1"
      },
      "outputs": [],
      "source": [
        "## git clone repository\n",
        "!git clone -q https://github.com/jiwaan/Virtual_Try_On.git VTON\n",
        "\n",
        "## set directory\n",
        "%cd /content/VTON\n",
        "\n",
        "## install required pacakges\n",
        "!pip install -q accelerate==0.26.1\n",
        "!pip install -q diffusers==0.14.0\n",
        "!pip install -q transformers==4.27.3\n",
        "!pip install -q ftfy==6.1.3\n",
        "!pip install -q clean-fid==0.1.35\n",
        "!pip install -q torchmetrics==1.3.0.post0\n",
        "!pip install -q opencv-contrib-python==4.8.0.76\n",
        "!pip install -q openmim==0.3.8\n",
        "!mim install -q mmcv==2.1.0\n",
        "!mim install -q mmengine==0.10.3\n",
        "!mim install -q mmpose==1.3.1\n",
        "!pip install -q xtcocotools==1.14.3\n",
        "!pip install -q munkres==1.1.4\n",
        "\n",
        "!pip install -q streamlit\n",
        "!pip install -q pyngrok"
      ]
    },
    {
      "cell_type": "markdown",
      "metadata": {
        "id": "C8SD9L7UnZFT"
      },
      "source": [
        "### **Web using Streamlit and Ngrok**"
      ]
    },
    {
      "cell_type": "code",
      "execution_count": 3,
      "metadata": {
        "colab": {
          "base_uri": "https://localhost:8080/"
        },
        "id": "uU_ezYiYo_dM",
        "outputId": "dde757d4-d529-4647-81ec-1193810a6cf9"
      },
      "outputs": [
        {
          "name": "stdout",
          "output_type": "stream",
          "text": [
            "Authtoken saved to configuration file: /root/.config/ngrok/ngrok.yml\n"
          ]
        }
      ],
      "source": [
        "from pyngrok import ngrok\n",
        "!ngrok config add-authtoken YOUR_AUTHTOKEN"
      ]
    },
    {
      "cell_type": "code",
      "execution_count": 4,
      "metadata": {
        "id": "E4lFS619pL1E"
      },
      "outputs": [],
      "source": [
        "!streamlit run app.py &>/dev/null&"
      ]
    },
    {
      "cell_type": "code",
      "execution_count": null,
      "metadata": {
        "id": "QpCW1xkgpNGH"
      },
      "outputs": [],
      "source": [
        "url = ngrok.connect(addr='8501')\n",
        "print(url)"
      ]
    }
  ],
  "metadata": {
    "accelerator": "GPU",
    "colab": {
      "gpuType": "T4",
      "machine_shape": "hm",
      "provenance": []
    },
    "kernelspec": {
      "display_name": "Python 3",
      "name": "python3"
    },
    "language_info": {
      "name": "python"
    }
  },
  "nbformat": 4,
  "nbformat_minor": 0
}
