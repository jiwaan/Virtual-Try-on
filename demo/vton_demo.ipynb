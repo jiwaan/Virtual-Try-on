{
  "cells": [
    {
      "cell_type": "markdown",
      "metadata": {
        "id": "3aKv5zMZVokc"
      },
      "source": [
        "### **Enviroment Set-up**"
      ]
    },
    {
      "cell_type": "code",
      "execution_count": null,
      "metadata": {
        "id": "A-MqGE39dUEj"
      },
      "outputs": [],
      "source": [
        "## git clone repository\n",
        "!git clone -q https://github.com/Dohyeon-Kim1/Virtual_Try_On.git VTON\n",
        "\n",
        "## set directory\n",
        "%cd /content/VTON\n",
        "\n",
        "## install required pacakges\n",
        "!pip install -q accelerate==0.26.1\n",
        "!pip install -q diffusers==0.14.0\n",
        "!pip install -q transformers==4.27.3\n",
        "!pip install -q ftfy==6.1.3\n",
        "!pip install -q clean-fid==0.1.35\n",
        "!pip install -q torchmetrics==1.3.0.post0\n",
        "!pip install -q opencv-contrib-python==4.8.0.76\n",
        "!pip install -q openmim==0.3.8\n",
        "!mim install -q mmcv==2.1.0\n",
        "!mim install -q mmengine==0.10.3\n",
        "!mim install -q mmpose==1.3.1\n",
        "!pip install -q xtcocotools==1.14.3\n",
        "!pip install -q munkres==1.1.4\n",
        "!pip install jax==0.4.19\n",
        "!pip install jaxlib==0.4.19"
      ]
    },
    {
      "cell_type": "markdown",
      "metadata": {
        "id": "dE_cpZhLWged"
      },
      "source": [
        "### **Inference**"
      ]
    },
    {
      "cell_type": "code",
      "execution_count": null,
      "metadata": {
        "id": "JsJSn412dnZM"
      },
      "outputs": [],
      "source": [
        "import torch\n",
        "from PIL import Image\n",
        "\n",
        "from inference import Inferencer"
      ]
    },
    {
      "cell_type": "code",
      "execution_count": null,
      "metadata": {
        "id": "RO8h-7DkWmei"
      },
      "outputs": [],
      "source": [
        "## load inferencer\n",
        "device = \"cuda\"\n",
        "inferencer = Inferencer(device=device)"
      ]
    },
    {
      "cell_type": "code",
      "execution_count": null,
      "metadata": {
        "id": "UKSPV-4JeRS1"
      },
      "outputs": [],
      "source": [
        "## load body & cloth image\n",
        "category = \"upper_body\"\n",
        "body_img = Image.open(\"images/body1.jpg\").convert(\"RGB\")\n",
        "cloth_img = Image.open(\"images/upper2.jpg\").convert(\"RGB\")"
      ]
    },
    {
      "cell_type": "code",
      "execution_count": null,
      "metadata": {
        "id": "0qbMx_6U0OBy"
      },
      "outputs": [],
      "source": [
        "## fitting cloth\n",
        "output = inferencer.inference(body_img,                      # PIL.Image\n",
        "                              cloth_img,                     # PIL.Image\n",
        "                              category,                      # [\"upper_body\", \"lower_vody\", \"dresses\"]\n",
        "                              guidance_scale=5,              # Float\n",
        "                              num_inference_steps=50)        # Int"
      ]
    },
    {
      "cell_type": "code",
      "execution_count": null,
      "metadata": {
        "id": "S4orJTOTYAtt"
      },
      "outputs": [],
      "source": [
        "## show fitting result\n",
        "display(output)"
      ]
    },
    {
      "cell_type": "code",
      "execution_count": null,
      "metadata": {
        "id": "6Xq8kFQ0YG0D"
      },
      "outputs": [],
      "source": [
        "## save fitting result\n",
        "output.save(\"images/output.png\")"
      ]
    }
  ],
  "metadata": {
    "accelerator": "GPU",
    "colab": {
      "gpuType": "T4",
      "machine_shape": "hm",
      "provenance": []
    },
    "kernelspec": {
      "display_name": "Python 3",
      "name": "python3"
    },
    "language_info": {
      "name": "python",
      "version": "3.9.12"
    }
  },
  "nbformat": 4,
  "nbformat_minor": 0
}
